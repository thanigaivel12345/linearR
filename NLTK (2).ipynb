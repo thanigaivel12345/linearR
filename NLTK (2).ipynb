{
 "cells": [
  {
   "cell_type": "code",
   "execution_count": 1,
   "id": "d7c63637",
   "metadata": {},
   "outputs": [
    {
     "name": "stderr",
     "output_type": "stream",
     "text": [
      "[nltk_data] Downloading package punkt to\n",
      "[nltk_data]     C:\\Users\\admin\\AppData\\Roaming\\nltk_data...\n",
      "[nltk_data]   Package punkt is already up-to-date!\n"
     ]
    },
    {
     "data": {
      "text/plain": [
       "True"
      ]
     },
     "execution_count": 1,
     "metadata": {},
     "output_type": "execute_result"
    }
   ],
   "source": [
    "import nltk\n",
    "nltk.download(\"punkt\")"
   ]
  },
  {
   "cell_type": "code",
   "execution_count": 21,
   "id": "189a3ccb",
   "metadata": {},
   "outputs": [
    {
     "name": "stderr",
     "output_type": "stream",
     "text": [
      "[nltk_data] Downloading package punkt to\n",
      "[nltk_data]     C:\\Users\\admin\\AppData\\Roaming\\nltk_data...\n",
      "[nltk_data]   Package punkt is already up-to-date!\n"
     ]
    }
   ],
   "source": [
    "import nltk  \n",
    "nltk.download(\"punkt\")\n",
    "from nltk.util import bigrams,trigrams\n",
    "from nltk import word_tokenize\n",
    "from nltk.corpus import stopwords \n"
   ]
  },
  {
   "cell_type": "code",
   "execution_count": null,
   "id": "6dde78cf",
   "metadata": {},
   "outputs": [],
   "source": []
  },
  {
   "cell_type": "code",
   "execution_count": 2,
   "id": "94b194ec",
   "metadata": {},
   "outputs": [
    {
     "name": "stdout",
     "output_type": "stream",
     "text": [
      "What is Lorem Ipsum?\n",
      "\n",
      "Lorem Ipsum is simply dummy text of the printing and \n",
      "typesetting industry. Lorem Ipsum has been the industry's \n",
      "standard dummy text ever since the 1500s, when an unknown \n",
      "printer took a galley of type and scrambled it to make a \n",
      "type specimen book. It has survived not only five centuries, \n",
      "but also the leap into electronic typesetting, \n",
      "remaining essentially unchanged. \n",
      "\n",
      "It was popularised in the 1960s with the release of Letraset \n",
      "sheets containing Lorem Ipsum passages, and more recently \n",
      "with desktop publishing software like Aldus PageMaker \n",
      "including versions of Lorem Ipsum.\n"
     ]
    }
   ],
   "source": [
    "f=open(\"demotext.txt\",\"r\")\n",
    "text=f.read()\n",
    "f.close()\n",
    "print(text)"
   ]
  },
  {
   "cell_type": "code",
   "execution_count": 7,
   "id": "e8f17db7",
   "metadata": {},
   "outputs": [
    {
     "data": {
      "text/plain": [
       "['What',\n",
       " 'is',\n",
       " 'Lorem',\n",
       " 'Ipsum',\n",
       " '?',\n",
       " 'Lorem',\n",
       " 'Ipsum',\n",
       " 'is',\n",
       " 'simply',\n",
       " 'dummy',\n",
       " 'text',\n",
       " 'of',\n",
       " 'the',\n",
       " 'printing',\n",
       " 'and',\n",
       " 'typesetting',\n",
       " 'industry',\n",
       " '.',\n",
       " 'Lorem',\n",
       " 'Ipsum',\n",
       " 'has',\n",
       " 'been',\n",
       " 'the',\n",
       " 'industry',\n",
       " \"'s\",\n",
       " 'standard',\n",
       " 'dummy',\n",
       " 'text',\n",
       " 'ever',\n",
       " 'since',\n",
       " 'the',\n",
       " '1500s',\n",
       " ',',\n",
       " 'when',\n",
       " 'an',\n",
       " 'unknown',\n",
       " 'printer',\n",
       " 'took',\n",
       " 'a',\n",
       " 'galley',\n",
       " 'of',\n",
       " 'type',\n",
       " 'and',\n",
       " 'scrambled',\n",
       " 'it',\n",
       " 'to',\n",
       " 'make',\n",
       " 'a',\n",
       " 'type',\n",
       " 'specimen',\n",
       " 'book',\n",
       " '.',\n",
       " 'It',\n",
       " 'has',\n",
       " 'survived',\n",
       " 'not',\n",
       " 'only',\n",
       " 'five',\n",
       " 'centuries',\n",
       " ',',\n",
       " 'but',\n",
       " 'also',\n",
       " 'the',\n",
       " 'leap',\n",
       " 'into',\n",
       " 'electronic',\n",
       " 'typesetting',\n",
       " ',',\n",
       " 'remaining',\n",
       " 'essentially',\n",
       " 'unchanged',\n",
       " '.',\n",
       " 'It',\n",
       " 'was',\n",
       " 'popularised',\n",
       " 'in',\n",
       " 'the',\n",
       " '1960s',\n",
       " 'with',\n",
       " 'the',\n",
       " 'release',\n",
       " 'of',\n",
       " 'Letraset',\n",
       " 'sheets',\n",
       " 'containing',\n",
       " 'Lorem',\n",
       " 'Ipsum',\n",
       " 'passages',\n",
       " ',',\n",
       " 'and',\n",
       " 'more',\n",
       " 'recently',\n",
       " 'with',\n",
       " 'desktop',\n",
       " 'publishing',\n",
       " 'software',\n",
       " 'like',\n",
       " 'Aldus',\n",
       " 'PageMaker',\n",
       " 'including',\n",
       " 'versions',\n",
       " 'of',\n",
       " 'Lorem',\n",
       " 'Ipsum',\n",
       " '.']"
      ]
     },
     "execution_count": 7,
     "metadata": {},
     "output_type": "execute_result"
    }
   ],
   "source": [
    "from nltk import word_tokenize\n",
    "tokens=word_tokenize(text)\n",
    "tokens"
   ]
  },
  {
   "cell_type": "code",
   "execution_count": 9,
   "id": "af15d1e9",
   "metadata": {},
   "outputs": [
    {
     "data": {
      "text/plain": [
       "[('What', 'is'),\n",
       " ('is', 'Lorem'),\n",
       " ('Lorem', 'Ipsum'),\n",
       " ('Ipsum', '?'),\n",
       " ('?', 'Lorem'),\n",
       " ('Lorem', 'Ipsum'),\n",
       " ('Ipsum', 'is'),\n",
       " ('is', 'simply'),\n",
       " ('simply', 'dummy'),\n",
       " ('dummy', 'text'),\n",
       " ('text', 'of'),\n",
       " ('of', 'the'),\n",
       " ('the', 'printing'),\n",
       " ('printing', 'and'),\n",
       " ('and', 'typesetting'),\n",
       " ('typesetting', 'industry'),\n",
       " ('industry', '.'),\n",
       " ('.', 'Lorem'),\n",
       " ('Lorem', 'Ipsum'),\n",
       " ('Ipsum', 'has'),\n",
       " ('has', 'been'),\n",
       " ('been', 'the'),\n",
       " ('the', 'industry'),\n",
       " ('industry', \"'s\"),\n",
       " (\"'s\", 'standard'),\n",
       " ('standard', 'dummy'),\n",
       " ('dummy', 'text'),\n",
       " ('text', 'ever'),\n",
       " ('ever', 'since'),\n",
       " ('since', 'the'),\n",
       " ('the', '1500s'),\n",
       " ('1500s', ','),\n",
       " (',', 'when'),\n",
       " ('when', 'an'),\n",
       " ('an', 'unknown'),\n",
       " ('unknown', 'printer'),\n",
       " ('printer', 'took'),\n",
       " ('took', 'a'),\n",
       " ('a', 'galley'),\n",
       " ('galley', 'of'),\n",
       " ('of', 'type'),\n",
       " ('type', 'and'),\n",
       " ('and', 'scrambled'),\n",
       " ('scrambled', 'it'),\n",
       " ('it', 'to'),\n",
       " ('to', 'make'),\n",
       " ('make', 'a'),\n",
       " ('a', 'type'),\n",
       " ('type', 'specimen'),\n",
       " ('specimen', 'book'),\n",
       " ('book', '.'),\n",
       " ('.', 'It'),\n",
       " ('It', 'has'),\n",
       " ('has', 'survived'),\n",
       " ('survived', 'not'),\n",
       " ('not', 'only'),\n",
       " ('only', 'five'),\n",
       " ('five', 'centuries'),\n",
       " ('centuries', ','),\n",
       " (',', 'but'),\n",
       " ('but', 'also'),\n",
       " ('also', 'the'),\n",
       " ('the', 'leap'),\n",
       " ('leap', 'into'),\n",
       " ('into', 'electronic'),\n",
       " ('electronic', 'typesetting'),\n",
       " ('typesetting', ','),\n",
       " (',', 'remaining'),\n",
       " ('remaining', 'essentially'),\n",
       " ('essentially', 'unchanged'),\n",
       " ('unchanged', '.'),\n",
       " ('.', 'It'),\n",
       " ('It', 'was'),\n",
       " ('was', 'popularised'),\n",
       " ('popularised', 'in'),\n",
       " ('in', 'the'),\n",
       " ('the', '1960s'),\n",
       " ('1960s', 'with'),\n",
       " ('with', 'the'),\n",
       " ('the', 'release'),\n",
       " ('release', 'of'),\n",
       " ('of', 'Letraset'),\n",
       " ('Letraset', 'sheets'),\n",
       " ('sheets', 'containing'),\n",
       " ('containing', 'Lorem'),\n",
       " ('Lorem', 'Ipsum'),\n",
       " ('Ipsum', 'passages'),\n",
       " ('passages', ','),\n",
       " (',', 'and'),\n",
       " ('and', 'more'),\n",
       " ('more', 'recently'),\n",
       " ('recently', 'with'),\n",
       " ('with', 'desktop'),\n",
       " ('desktop', 'publishing'),\n",
       " ('publishing', 'software'),\n",
       " ('software', 'like'),\n",
       " ('like', 'Aldus'),\n",
       " ('Aldus', 'PageMaker'),\n",
       " ('PageMaker', 'including'),\n",
       " ('including', 'versions'),\n",
       " ('versions', 'of'),\n",
       " ('of', 'Lorem'),\n",
       " ('Lorem', 'Ipsum'),\n",
       " ('Ipsum', '.')]"
      ]
     },
     "execution_count": 9,
     "metadata": {},
     "output_type": "execute_result"
    }
   ],
   "source": [
    "from nltk.util import bigrams,trigrams\n",
    "bi=list(bigrams(tokens))\n",
    "bi"
   ]
  },
  {
   "cell_type": "code",
   "execution_count": 10,
   "id": "32cff312",
   "metadata": {},
   "outputs": [
    {
     "data": {
      "text/plain": [
       "[('What', 'is', 'Lorem'),\n",
       " ('is', 'Lorem', 'Ipsum'),\n",
       " ('Lorem', 'Ipsum', '?'),\n",
       " ('Ipsum', '?', 'Lorem'),\n",
       " ('?', 'Lorem', 'Ipsum'),\n",
       " ('Lorem', 'Ipsum', 'is'),\n",
       " ('Ipsum', 'is', 'simply'),\n",
       " ('is', 'simply', 'dummy'),\n",
       " ('simply', 'dummy', 'text'),\n",
       " ('dummy', 'text', 'of'),\n",
       " ('text', 'of', 'the'),\n",
       " ('of', 'the', 'printing'),\n",
       " ('the', 'printing', 'and'),\n",
       " ('printing', 'and', 'typesetting'),\n",
       " ('and', 'typesetting', 'industry'),\n",
       " ('typesetting', 'industry', '.'),\n",
       " ('industry', '.', 'Lorem'),\n",
       " ('.', 'Lorem', 'Ipsum'),\n",
       " ('Lorem', 'Ipsum', 'has'),\n",
       " ('Ipsum', 'has', 'been'),\n",
       " ('has', 'been', 'the'),\n",
       " ('been', 'the', 'industry'),\n",
       " ('the', 'industry', \"'s\"),\n",
       " ('industry', \"'s\", 'standard'),\n",
       " (\"'s\", 'standard', 'dummy'),\n",
       " ('standard', 'dummy', 'text'),\n",
       " ('dummy', 'text', 'ever'),\n",
       " ('text', 'ever', 'since'),\n",
       " ('ever', 'since', 'the'),\n",
       " ('since', 'the', '1500s'),\n",
       " ('the', '1500s', ','),\n",
       " ('1500s', ',', 'when'),\n",
       " (',', 'when', 'an'),\n",
       " ('when', 'an', 'unknown'),\n",
       " ('an', 'unknown', 'printer'),\n",
       " ('unknown', 'printer', 'took'),\n",
       " ('printer', 'took', 'a'),\n",
       " ('took', 'a', 'galley'),\n",
       " ('a', 'galley', 'of'),\n",
       " ('galley', 'of', 'type'),\n",
       " ('of', 'type', 'and'),\n",
       " ('type', 'and', 'scrambled'),\n",
       " ('and', 'scrambled', 'it'),\n",
       " ('scrambled', 'it', 'to'),\n",
       " ('it', 'to', 'make'),\n",
       " ('to', 'make', 'a'),\n",
       " ('make', 'a', 'type'),\n",
       " ('a', 'type', 'specimen'),\n",
       " ('type', 'specimen', 'book'),\n",
       " ('specimen', 'book', '.'),\n",
       " ('book', '.', 'It'),\n",
       " ('.', 'It', 'has'),\n",
       " ('It', 'has', 'survived'),\n",
       " ('has', 'survived', 'not'),\n",
       " ('survived', 'not', 'only'),\n",
       " ('not', 'only', 'five'),\n",
       " ('only', 'five', 'centuries'),\n",
       " ('five', 'centuries', ','),\n",
       " ('centuries', ',', 'but'),\n",
       " (',', 'but', 'also'),\n",
       " ('but', 'also', 'the'),\n",
       " ('also', 'the', 'leap'),\n",
       " ('the', 'leap', 'into'),\n",
       " ('leap', 'into', 'electronic'),\n",
       " ('into', 'electronic', 'typesetting'),\n",
       " ('electronic', 'typesetting', ','),\n",
       " ('typesetting', ',', 'remaining'),\n",
       " (',', 'remaining', 'essentially'),\n",
       " ('remaining', 'essentially', 'unchanged'),\n",
       " ('essentially', 'unchanged', '.'),\n",
       " ('unchanged', '.', 'It'),\n",
       " ('.', 'It', 'was'),\n",
       " ('It', 'was', 'popularised'),\n",
       " ('was', 'popularised', 'in'),\n",
       " ('popularised', 'in', 'the'),\n",
       " ('in', 'the', '1960s'),\n",
       " ('the', '1960s', 'with'),\n",
       " ('1960s', 'with', 'the'),\n",
       " ('with', 'the', 'release'),\n",
       " ('the', 'release', 'of'),\n",
       " ('release', 'of', 'Letraset'),\n",
       " ('of', 'Letraset', 'sheets'),\n",
       " ('Letraset', 'sheets', 'containing'),\n",
       " ('sheets', 'containing', 'Lorem'),\n",
       " ('containing', 'Lorem', 'Ipsum'),\n",
       " ('Lorem', 'Ipsum', 'passages'),\n",
       " ('Ipsum', 'passages', ','),\n",
       " ('passages', ',', 'and'),\n",
       " (',', 'and', 'more'),\n",
       " ('and', 'more', 'recently'),\n",
       " ('more', 'recently', 'with'),\n",
       " ('recently', 'with', 'desktop'),\n",
       " ('with', 'desktop', 'publishing'),\n",
       " ('desktop', 'publishing', 'software'),\n",
       " ('publishing', 'software', 'like'),\n",
       " ('software', 'like', 'Aldus'),\n",
       " ('like', 'Aldus', 'PageMaker'),\n",
       " ('Aldus', 'PageMaker', 'including'),\n",
       " ('PageMaker', 'including', 'versions'),\n",
       " ('including', 'versions', 'of'),\n",
       " ('versions', 'of', 'Lorem'),\n",
       " ('of', 'Lorem', 'Ipsum'),\n",
       " ('Lorem', 'Ipsum', '.')]"
      ]
     },
     "execution_count": 10,
     "metadata": {},
     "output_type": "execute_result"
    }
   ],
   "source": [
    "from nltk.util import bigrams,trigrams\n",
    "tri=list(trigrams(tokens))\n",
    "tri"
   ]
  },
  {
   "cell_type": "code",
   "execution_count": 14,
   "id": "c1962dd0",
   "metadata": {},
   "outputs": [
    {
     "data": {
      "text/plain": [
       "{\"'s\",\n",
       " ',',\n",
       " '.',\n",
       " '1500s',\n",
       " '1960s',\n",
       " '?',\n",
       " 'a',\n",
       " 'aldus',\n",
       " 'also',\n",
       " 'an',\n",
       " 'and',\n",
       " 'been',\n",
       " 'book',\n",
       " 'but',\n",
       " 'centuries',\n",
       " 'containing',\n",
       " 'desktop',\n",
       " 'dummy',\n",
       " 'electronic',\n",
       " 'essentially',\n",
       " 'ever',\n",
       " 'five',\n",
       " 'galley',\n",
       " 'has',\n",
       " 'in',\n",
       " 'including',\n",
       " 'industry',\n",
       " 'into',\n",
       " 'ipsum',\n",
       " 'is',\n",
       " 'it',\n",
       " 'leap',\n",
       " 'letraset',\n",
       " 'like',\n",
       " 'lorem',\n",
       " 'make',\n",
       " 'more',\n",
       " 'not',\n",
       " 'of',\n",
       " 'only',\n",
       " 'pagemaker',\n",
       " 'passages',\n",
       " 'popularised',\n",
       " 'printer',\n",
       " 'printing',\n",
       " 'publishing',\n",
       " 'recently',\n",
       " 'release',\n",
       " 'remaining',\n",
       " 'scrambled',\n",
       " 'sheets',\n",
       " 'simply',\n",
       " 'since',\n",
       " 'software',\n",
       " 'specimen',\n",
       " 'standard',\n",
       " 'survived',\n",
       " 'text',\n",
       " 'the',\n",
       " 'to',\n",
       " 'took',\n",
       " 'type',\n",
       " 'typesetting',\n",
       " 'unchanged',\n",
       " 'unknown',\n",
       " 'versions',\n",
       " 'was',\n",
       " 'what',\n",
       " 'when',\n",
       " 'with'}"
      ]
     },
     "execution_count": 14,
     "metadata": {},
     "output_type": "execute_result"
    }
   ],
   "source": [
    "tokens=set(w.lower()for w in tokens)\n",
    "tokens"
   ]
  },
  {
   "cell_type": "code",
   "execution_count": 15,
   "id": "ce61ae16",
   "metadata": {},
   "outputs": [
    {
     "data": {
      "text/plain": [
       "['i',\n",
       " 'me',\n",
       " 'my',\n",
       " 'myself',\n",
       " 'we',\n",
       " 'our',\n",
       " 'ours',\n",
       " 'ourselves',\n",
       " 'you',\n",
       " \"you're\",\n",
       " \"you've\",\n",
       " \"you'll\",\n",
       " \"you'd\",\n",
       " 'your',\n",
       " 'yours',\n",
       " 'yourself',\n",
       " 'yourselves',\n",
       " 'he',\n",
       " 'him',\n",
       " 'his',\n",
       " 'himself',\n",
       " 'she',\n",
       " \"she's\",\n",
       " 'her',\n",
       " 'hers',\n",
       " 'herself',\n",
       " 'it',\n",
       " \"it's\",\n",
       " 'its',\n",
       " 'itself',\n",
       " 'they',\n",
       " 'them',\n",
       " 'their',\n",
       " 'theirs',\n",
       " 'themselves',\n",
       " 'what',\n",
       " 'which',\n",
       " 'who',\n",
       " 'whom',\n",
       " 'this',\n",
       " 'that',\n",
       " \"that'll\",\n",
       " 'these',\n",
       " 'those',\n",
       " 'am',\n",
       " 'is',\n",
       " 'are',\n",
       " 'was',\n",
       " 'were',\n",
       " 'be',\n",
       " 'been',\n",
       " 'being',\n",
       " 'have',\n",
       " 'has',\n",
       " 'had',\n",
       " 'having',\n",
       " 'do',\n",
       " 'does',\n",
       " 'did',\n",
       " 'doing',\n",
       " 'a',\n",
       " 'an',\n",
       " 'the',\n",
       " 'and',\n",
       " 'but',\n",
       " 'if',\n",
       " 'or',\n",
       " 'because',\n",
       " 'as',\n",
       " 'until',\n",
       " 'while',\n",
       " 'of',\n",
       " 'at',\n",
       " 'by',\n",
       " 'for',\n",
       " 'with',\n",
       " 'about',\n",
       " 'against',\n",
       " 'between',\n",
       " 'into',\n",
       " 'through',\n",
       " 'during',\n",
       " 'before',\n",
       " 'after',\n",
       " 'above',\n",
       " 'below',\n",
       " 'to',\n",
       " 'from',\n",
       " 'up',\n",
       " 'down',\n",
       " 'in',\n",
       " 'out',\n",
       " 'on',\n",
       " 'off',\n",
       " 'over',\n",
       " 'under',\n",
       " 'again',\n",
       " 'further',\n",
       " 'then',\n",
       " 'once',\n",
       " 'here',\n",
       " 'there',\n",
       " 'when',\n",
       " 'where',\n",
       " 'why',\n",
       " 'how',\n",
       " 'all',\n",
       " 'any',\n",
       " 'both',\n",
       " 'each',\n",
       " 'few',\n",
       " 'more',\n",
       " 'most',\n",
       " 'other',\n",
       " 'some',\n",
       " 'such',\n",
       " 'no',\n",
       " 'nor',\n",
       " 'not',\n",
       " 'only',\n",
       " 'own',\n",
       " 'same',\n",
       " 'so',\n",
       " 'than',\n",
       " 'too',\n",
       " 'very',\n",
       " 's',\n",
       " 't',\n",
       " 'can',\n",
       " 'will',\n",
       " 'just',\n",
       " 'don',\n",
       " \"don't\",\n",
       " 'should',\n",
       " \"should've\",\n",
       " 'now',\n",
       " 'd',\n",
       " 'll',\n",
       " 'm',\n",
       " 'o',\n",
       " 're',\n",
       " 've',\n",
       " 'y',\n",
       " 'ain',\n",
       " 'aren',\n",
       " \"aren't\",\n",
       " 'couldn',\n",
       " \"couldn't\",\n",
       " 'didn',\n",
       " \"didn't\",\n",
       " 'doesn',\n",
       " \"doesn't\",\n",
       " 'hadn',\n",
       " \"hadn't\",\n",
       " 'hasn',\n",
       " \"hasn't\",\n",
       " 'haven',\n",
       " \"haven't\",\n",
       " 'isn',\n",
       " \"isn't\",\n",
       " 'ma',\n",
       " 'mightn',\n",
       " \"mightn't\",\n",
       " 'mustn',\n",
       " \"mustn't\",\n",
       " 'needn',\n",
       " \"needn't\",\n",
       " 'shan',\n",
       " \"shan't\",\n",
       " 'shouldn',\n",
       " \"shouldn't\",\n",
       " 'wasn',\n",
       " \"wasn't\",\n",
       " 'weren',\n",
       " \"weren't\",\n",
       " 'won',\n",
       " \"won't\",\n",
       " 'wouldn',\n",
       " \"wouldn't\"]"
      ]
     },
     "execution_count": 15,
     "metadata": {},
     "output_type": "execute_result"
    }
   ],
   "source": [
    "from nltk.corpus import stopwords\n",
    "stop_w=stopwords.words(\"English\")\n",
    "stop_w"
   ]
  },
  {
   "cell_type": "code",
   "execution_count": 19,
   "id": "884b4315",
   "metadata": {},
   "outputs": [
    {
     "data": {
      "text/plain": [
       "['pagemaker',\n",
       " 'software',\n",
       " 'also',\n",
       " 'like',\n",
       " 'scrambled',\n",
       " 'text',\n",
       " ',',\n",
       " 'industry',\n",
       " 'book',\n",
       " 'sheets',\n",
       " 'lorem',\n",
       " \"'s\",\n",
       " 'remaining',\n",
       " 'took',\n",
       " 'aldus',\n",
       " 'versions',\n",
       " 'printing',\n",
       " 'printer',\n",
       " 'passages',\n",
       " 'since',\n",
       " 'type',\n",
       " 'desktop',\n",
       " '.',\n",
       " 'galley',\n",
       " 'five',\n",
       " '1500s',\n",
       " 'typesetting',\n",
       " 'dummy',\n",
       " 'recently',\n",
       " 'simply',\n",
       " 'standard',\n",
       " '1960s',\n",
       " '?',\n",
       " 'letraset',\n",
       " 'containing',\n",
       " 'ipsum',\n",
       " 'specimen',\n",
       " 'popularised',\n",
       " 'unchanged',\n",
       " 'publishing',\n",
       " 'leap',\n",
       " 'electronic',\n",
       " 'unknown',\n",
       " 'make',\n",
       " 'including',\n",
       " 'essentially',\n",
       " 'survived',\n",
       " 'release',\n",
       " 'ever',\n",
       " 'centuries']"
      ]
     },
     "execution_count": 19,
     "metadata": {},
     "output_type": "execute_result"
    }
   ],
   "source": [
    "#removal of stopwords\n",
    "word_l=[w for w in tokens if w not in stop_w]\n",
    "word_l"
   ]
  },
  {
   "cell_type": "code",
   "execution_count": 34,
   "id": "ba928202",
   "metadata": {},
   "outputs": [
    {
     "data": {
      "text/plain": [
       "['What is Lo',\n",
       " 'em Ipsum?\\n\\nLo',\n",
       " 'em Ipsum is simply dummy text of the p',\n",
       " 'inting and \\ntypesetting indust',\n",
       " 'y. Lo',\n",
       " 'em Ipsum has been the indust',\n",
       " \"y's \\nstanda\",\n",
       " 'd dummy text eve',\n",
       " ' since the 1500s, when an unknown \\np',\n",
       " 'inte',\n",
       " ' took a galley of type and sc',\n",
       " 'ambled it to make a \\ntype specimen book. It has su',\n",
       " 'vived not only five centu',\n",
       " 'ies, \\nbut also the leap into elect',\n",
       " 'onic typesetting, \\n',\n",
       " 'emaining essentially unchanged. \\n\\nIt was popula',\n",
       " 'ised in the 1960s with the ',\n",
       " 'elease of Let',\n",
       " 'aset \\nsheets containing Lo',\n",
       " 'em Ipsum passages, and mo',\n",
       " 'e ',\n",
       " 'ecently \\nwith desktop publishing softwa',\n",
       " 'e like Aldus PageMake',\n",
       " ' \\nincluding ve',\n",
       " 'sions of Lo',\n",
       " 'em Ipsum.']"
      ]
     },
     "execution_count": 34,
     "metadata": {},
     "output_type": "execute_result"
    }
   ],
   "source": [
    "#removal of extra symbol\n",
    "from nltk.tokenize import RegexpTokenizer\n",
    "tokenizer=RegexpTokenizer(\"r\",\"\\w+\")\n",
    "n_tokens=tokenizer.tokenize(text)\n",
    "n_tokens"
   ]
  },
  {
   "cell_type": "code",
   "execution_count": null,
   "id": "f76bbc79",
   "metadata": {},
   "outputs": [],
   "source": []
  },
  {
   "cell_type": "code",
   "execution_count": 24,
   "id": "166273b4",
   "metadata": {},
   "outputs": [
    {
     "name": "stderr",
     "output_type": "stream",
     "text": [
      "[nltk_data] Downloading package averaged_perceptron_tagger to\n",
      "[nltk_data]     C:\\Users\\admin\\AppData\\Roaming\\nltk_data...\n",
      "[nltk_data]   Package averaged_perceptron_tagger is already up-to-\n",
      "[nltk_data]       date!\n"
     ]
    },
    {
     "data": {
      "text/plain": [
       "True"
      ]
     },
     "execution_count": 24,
     "metadata": {},
     "output_type": "execute_result"
    }
   ],
   "source": [
    "nltk.download(\"averaged_perceptron_tagger\")"
   ]
  },
  {
   "cell_type": "code",
   "execution_count": 31,
   "id": "c9e8b7ca",
   "metadata": {},
   "outputs": [
    {
     "name": "stdout",
     "output_type": "stream",
     "text": [
      "[('pagemaker', 'NN')]\n",
      "[('software', 'NN')]\n",
      "[('also', 'RB')]\n",
      "[('like', 'IN')]\n",
      "[('was', 'VBD')]\n",
      "[('scrambled', 'VBN')]\n",
      "[('text', 'NN')]\n",
      "[(',', ',')]\n",
      "[('industry', 'NN')]\n",
      "[('book', 'NN')]\n",
      "[('of', 'IN')]\n",
      "[('when', 'WRB')]\n",
      "[('sheets', 'NNS')]\n",
      "[('lorem', 'NN')]\n",
      "[('more', 'RBR')]\n",
      "[(\"'s\", 'POS')]\n",
      "[('remaining', 'VBG')]\n",
      "[('took', 'VBD')]\n",
      "[('aldus', 'NN')]\n",
      "[('versions', 'NNS')]\n",
      "[('printing', 'NN')]\n",
      "[('printer', 'NN')]\n",
      "[('passages', 'NNS')]\n",
      "[('since', 'IN')]\n",
      "[('has', 'VBZ')]\n",
      "[('type', 'NN')]\n",
      "[('only', 'RB')]\n",
      "[('not', 'RB')]\n",
      "[('desktop', 'NN')]\n",
      "[('.', '.')]\n",
      "[('what', 'WP')]\n",
      "[('galley', 'NN')]\n",
      "[('five', 'CD')]\n",
      "[('in', 'IN')]\n",
      "[('1500s', 'CD')]\n",
      "[('a', 'DT')]\n",
      "[('typesetting', 'VBG')]\n",
      "[('is', 'VBZ')]\n",
      "[('the', 'DT')]\n",
      "[('dummy', 'NN')]\n",
      "[('recently', 'RB')]\n",
      "[('an', 'DT')]\n",
      "[('with', 'IN')]\n",
      "[('simply', 'RB')]\n",
      "[('standard', 'NN')]\n",
      "[('1960s', 'NNS')]\n",
      "[('?', '.')]\n",
      "[('letraset', 'NN')]\n",
      "[('containing', 'VBG')]\n",
      "[('ipsum', 'NN')]\n",
      "[('and', 'CC')]\n",
      "[('specimen', 'NNS')]\n",
      "[('popularised', 'VBN')]\n",
      "[('unchanged', 'JJ')]\n",
      "[('been', 'VBN')]\n",
      "[('publishing', 'NN')]\n",
      "[('leap', 'NN')]\n",
      "[('into', 'IN')]\n",
      "[('electronic', 'JJ')]\n",
      "[('unknown', 'JJ')]\n",
      "[('make', 'VB')]\n",
      "[('including', 'VBG')]\n",
      "[('to', 'TO')]\n",
      "[('essentially', 'RB')]\n",
      "[('but', 'CC')]\n",
      "[('survived', 'VBN')]\n",
      "[('release', 'NN')]\n",
      "[('ever', 'RB')]\n",
      "[('it', 'PRP')]\n",
      "[('centuries', 'NNS')]\n"
     ]
    }
   ],
   "source": [
    "for token in tokens:\n",
    "    print(nltk.pos_tag([token]))"
   ]
  },
  {
   "cell_type": "code",
   "execution_count": 46,
   "id": "efbed0a6",
   "metadata": {},
   "outputs": [
    {
     "data": {
      "text/plain": [
       "'forev'"
      ]
     },
     "execution_count": 46,
     "metadata": {},
     "output_type": "execute_result"
    }
   ],
   "source": [
    "from nltk.stem import PorterStemmer\n",
    "texts=\"forever\"\n",
    "po=nltk.PorterStemmer()\n",
    "poo=po.stem(texts)\n",
    "poo"
   ]
  },
  {
   "cell_type": "code",
   "execution_count": 48,
   "id": "60d356d4",
   "metadata": {},
   "outputs": [
    {
     "data": {
      "text/plain": [
       "'forev'"
      ]
     },
     "execution_count": 48,
     "metadata": {},
     "output_type": "execute_result"
    }
   ],
   "source": [
    "from nltk.stem import LancasterStemmer\n",
    "la=LancasterStemmer()\n",
    "hh=la.stem(texts)\n",
    "hh"
   ]
  },
  {
   "cell_type": "code",
   "execution_count": 53,
   "id": "74f3e819",
   "metadata": {},
   "outputs": [
    {
     "data": {
      "text/plain": [
       "'forever'"
      ]
     },
     "execution_count": 53,
     "metadata": {},
     "output_type": "execute_result"
    }
   ],
   "source": [
    "from nltk.stem import WordNetLemmatizer\n",
    "wn=WordNetLemmatizer()\n",
    "dd=wn.lemmatize(texts)\n",
    "dd"
   ]
  },
  {
   "cell_type": "code",
   "execution_count": 54,
   "id": "25263023",
   "metadata": {},
   "outputs": [
    {
     "name": "stderr",
     "output_type": "stream",
     "text": [
      "[nltk_data] Downloading package maxent_ne_chunker to\n",
      "[nltk_data]     C:\\Users\\admin\\AppData\\Roaming\\nltk_data...\n",
      "[nltk_data]   Package maxent_ne_chunker is already up-to-date!\n"
     ]
    },
    {
     "data": {
      "text/plain": [
       "True"
      ]
     },
     "execution_count": 54,
     "metadata": {},
     "output_type": "execute_result"
    }
   ],
   "source": [
    "from nltk import ne_chunk\n",
    "nltk.download(\"maxent_ne_chunker\")"
   ]
  },
  {
   "cell_type": "code",
   "execution_count": 63,
   "id": "a8234daf",
   "metadata": {},
   "outputs": [
    {
     "data": {
      "image/svg+xml": [
       "<svg baseProfile=\"full\" height=\"120px\" preserveAspectRatio=\"xMidYMid meet\" style=\"font-family: times, serif; font-weight:normal; font-style: normal; font-size: 16px;\" version=\"1.1\" viewBox=\"0,0,4208.0,120.0\" width=\"4208px\" xmlns=\"http://www.w3.org/2000/svg\" xmlns:ev=\"http://www.w3.org/2001/xml-events\" xmlns:xlink=\"http://www.w3.org/1999/xlink\"><defs /><svg width=\"100%\" x=\"0\" y=\"0em\"><defs /><text text-anchor=\"middle\" x=\"50%\" y=\"1em\">S</text></svg><svg width=\"2.09125%\" x=\"0%\" y=\"3em\"><defs /><svg width=\"100%\" x=\"0\" y=\"0em\"><defs /><text text-anchor=\"middle\" x=\"50%\" y=\"1em\">pagemaker</text></svg><svg width=\"100%\" x=\"0%\" y=\"3em\"><defs /><svg width=\"100%\" x=\"0\" y=\"0em\"><defs /><text text-anchor=\"middle\" x=\"50%\" y=\"1em\">NN</text></svg></svg><line stroke=\"black\" x1=\"50%\" x2=\"50%\" y1=\"1.2em\" y2=\"3em\" /></svg><line stroke=\"black\" x1=\"50%\" x2=\"1.04563%\" y1=\"1.2em\" y2=\"3em\" /><svg width=\"1.90114%\" x=\"2.09125%\" y=\"3em\"><defs /><svg width=\"100%\" x=\"0\" y=\"0em\"><defs /><text text-anchor=\"middle\" x=\"50%\" y=\"1em\">software</text></svg><svg width=\"100%\" x=\"0%\" y=\"3em\"><defs /><svg width=\"100%\" x=\"0\" y=\"0em\"><defs /><text text-anchor=\"middle\" x=\"50%\" y=\"1em\">NN</text></svg></svg><line stroke=\"black\" x1=\"50%\" x2=\"50%\" y1=\"1.2em\" y2=\"3em\" /></svg><line stroke=\"black\" x1=\"50%\" x2=\"3.04183%\" y1=\"1.2em\" y2=\"3em\" /><svg width=\"1.14068%\" x=\"3.9924%\" y=\"3em\"><defs /><svg width=\"100%\" x=\"0\" y=\"0em\"><defs /><text text-anchor=\"middle\" x=\"50%\" y=\"1em\">also</text></svg><svg width=\"100%\" x=\"0%\" y=\"3em\"><defs /><svg width=\"100%\" x=\"0\" y=\"0em\"><defs /><text text-anchor=\"middle\" x=\"50%\" y=\"1em\">RB</text></svg></svg><line stroke=\"black\" x1=\"50%\" x2=\"50%\" y1=\"1.2em\" y2=\"3em\" /></svg><line stroke=\"black\" x1=\"50%\" x2=\"4.56274%\" y1=\"1.2em\" y2=\"3em\" /><svg width=\"1.14068%\" x=\"5.13308%\" y=\"3em\"><defs /><svg width=\"100%\" x=\"0\" y=\"0em\"><defs /><text text-anchor=\"middle\" x=\"50%\" y=\"1em\">like</text></svg><svg width=\"100%\" x=\"0%\" y=\"3em\"><defs /><svg width=\"100%\" x=\"0\" y=\"0em\"><defs /><text text-anchor=\"middle\" x=\"50%\" y=\"1em\">IN</text></svg></svg><line stroke=\"black\" x1=\"50%\" x2=\"50%\" y1=\"1.2em\" y2=\"3em\" /></svg><line stroke=\"black\" x1=\"50%\" x2=\"5.70342%\" y1=\"1.2em\" y2=\"3em\" /><svg width=\"0.95057%\" x=\"6.27376%\" y=\"3em\"><defs /><svg width=\"100%\" x=\"0\" y=\"0em\"><defs /><text text-anchor=\"middle\" x=\"50%\" y=\"1em\">was</text></svg><svg width=\"100%\" x=\"0%\" y=\"3em\"><defs /><svg width=\"100%\" x=\"0\" y=\"0em\"><defs /><text text-anchor=\"middle\" x=\"50%\" y=\"1em\">VBD</text></svg></svg><line stroke=\"black\" x1=\"50%\" x2=\"50%\" y1=\"1.2em\" y2=\"3em\" /></svg><line stroke=\"black\" x1=\"50%\" x2=\"6.74905%\" y1=\"1.2em\" y2=\"3em\" /><svg width=\"2.09125%\" x=\"7.22433%\" y=\"3em\"><defs /><svg width=\"100%\" x=\"0\" y=\"0em\"><defs /><text text-anchor=\"middle\" x=\"50%\" y=\"1em\">scrambled</text></svg><svg width=\"100%\" x=\"0%\" y=\"3em\"><defs /><svg width=\"100%\" x=\"0\" y=\"0em\"><defs /><text text-anchor=\"middle\" x=\"50%\" y=\"1em\">VBN</text></svg></svg><line stroke=\"black\" x1=\"50%\" x2=\"50%\" y1=\"1.2em\" y2=\"3em\" /></svg><line stroke=\"black\" x1=\"50%\" x2=\"8.26996%\" y1=\"1.2em\" y2=\"3em\" /><svg width=\"1.14068%\" x=\"9.31559%\" y=\"3em\"><defs /><svg width=\"100%\" x=\"0\" y=\"0em\"><defs /><text text-anchor=\"middle\" x=\"50%\" y=\"1em\">text</text></svg><svg width=\"100%\" x=\"0%\" y=\"3em\"><defs /><svg width=\"100%\" x=\"0\" y=\"0em\"><defs /><text text-anchor=\"middle\" x=\"50%\" y=\"1em\">NN</text></svg></svg><line stroke=\"black\" x1=\"50%\" x2=\"50%\" y1=\"1.2em\" y2=\"3em\" /></svg><line stroke=\"black\" x1=\"50%\" x2=\"9.88593%\" y1=\"1.2em\" y2=\"3em\" /><svg width=\"0.570342%\" x=\"10.4563%\" y=\"3em\"><defs /><svg width=\"100%\" x=\"0\" y=\"0em\"><defs /><text text-anchor=\"middle\" x=\"50%\" y=\"1em\">,</text></svg><svg width=\"100%\" x=\"0%\" y=\"3em\"><defs /><svg width=\"100%\" x=\"0\" y=\"0em\"><defs /><text text-anchor=\"middle\" x=\"50%\" y=\"1em\">,</text></svg></svg><line stroke=\"black\" x1=\"50%\" x2=\"50%\" y1=\"1.2em\" y2=\"3em\" /></svg><line stroke=\"black\" x1=\"50%\" x2=\"10.7414%\" y1=\"1.2em\" y2=\"3em\" /><svg width=\"1.90114%\" x=\"11.0266%\" y=\"3em\"><defs /><svg width=\"100%\" x=\"0\" y=\"0em\"><defs /><text text-anchor=\"middle\" x=\"50%\" y=\"1em\">industry</text></svg><svg width=\"100%\" x=\"0%\" y=\"3em\"><defs /><svg width=\"100%\" x=\"0\" y=\"0em\"><defs /><text text-anchor=\"middle\" x=\"50%\" y=\"1em\">NN</text></svg></svg><line stroke=\"black\" x1=\"50%\" x2=\"50%\" y1=\"1.2em\" y2=\"3em\" /></svg><line stroke=\"black\" x1=\"50%\" x2=\"11.9772%\" y1=\"1.2em\" y2=\"3em\" /><svg width=\"1.14068%\" x=\"12.9278%\" y=\"3em\"><defs /><svg width=\"100%\" x=\"0\" y=\"0em\"><defs /><text text-anchor=\"middle\" x=\"50%\" y=\"1em\">book</text></svg><svg width=\"100%\" x=\"0%\" y=\"3em\"><defs /><svg width=\"100%\" x=\"0\" y=\"0em\"><defs /><text text-anchor=\"middle\" x=\"50%\" y=\"1em\">NN</text></svg></svg><line stroke=\"black\" x1=\"50%\" x2=\"50%\" y1=\"1.2em\" y2=\"3em\" /></svg><line stroke=\"black\" x1=\"50%\" x2=\"13.4981%\" y1=\"1.2em\" y2=\"3em\" /><svg width=\"0.760456%\" x=\"14.0684%\" y=\"3em\"><defs /><svg width=\"100%\" x=\"0\" y=\"0em\"><defs /><text text-anchor=\"middle\" x=\"50%\" y=\"1em\">of</text></svg><svg width=\"100%\" x=\"0%\" y=\"3em\"><defs /><svg width=\"100%\" x=\"0\" y=\"0em\"><defs /><text text-anchor=\"middle\" x=\"50%\" y=\"1em\">IN</text></svg></svg><line stroke=\"black\" x1=\"50%\" x2=\"50%\" y1=\"1.2em\" y2=\"3em\" /></svg><line stroke=\"black\" x1=\"50%\" x2=\"14.4487%\" y1=\"1.2em\" y2=\"3em\" /><svg width=\"1.14068%\" x=\"14.8289%\" y=\"3em\"><defs /><svg width=\"100%\" x=\"0\" y=\"0em\"><defs /><text text-anchor=\"middle\" x=\"50%\" y=\"1em\">when</text></svg><svg width=\"100%\" x=\"0%\" y=\"3em\"><defs /><svg width=\"100%\" x=\"0\" y=\"0em\"><defs /><text text-anchor=\"middle\" x=\"50%\" y=\"1em\">WRB</text></svg></svg><line stroke=\"black\" x1=\"50%\" x2=\"50%\" y1=\"1.2em\" y2=\"3em\" /></svg><line stroke=\"black\" x1=\"50%\" x2=\"15.3992%\" y1=\"1.2em\" y2=\"3em\" /><svg width=\"1.52091%\" x=\"15.9696%\" y=\"3em\"><defs /><svg width=\"100%\" x=\"0\" y=\"0em\"><defs /><text text-anchor=\"middle\" x=\"50%\" y=\"1em\">sheets</text></svg><svg width=\"100%\" x=\"0%\" y=\"3em\"><defs /><svg width=\"100%\" x=\"0\" y=\"0em\"><defs /><text text-anchor=\"middle\" x=\"50%\" y=\"1em\">NNS</text></svg></svg><line stroke=\"black\" x1=\"50%\" x2=\"50%\" y1=\"1.2em\" y2=\"3em\" /></svg><line stroke=\"black\" x1=\"50%\" x2=\"16.73%\" y1=\"1.2em\" y2=\"3em\" /><svg width=\"1.3308%\" x=\"17.4905%\" y=\"3em\"><defs /><svg width=\"100%\" x=\"0\" y=\"0em\"><defs /><text text-anchor=\"middle\" x=\"50%\" y=\"1em\">lorem</text></svg><svg width=\"100%\" x=\"0%\" y=\"3em\"><defs /><svg width=\"100%\" x=\"0\" y=\"0em\"><defs /><text text-anchor=\"middle\" x=\"50%\" y=\"1em\">VBP</text></svg></svg><line stroke=\"black\" x1=\"50%\" x2=\"50%\" y1=\"1.2em\" y2=\"3em\" /></svg><line stroke=\"black\" x1=\"50%\" x2=\"18.1559%\" y1=\"1.2em\" y2=\"3em\" /><svg width=\"1.14068%\" x=\"18.8213%\" y=\"3em\"><defs /><svg width=\"100%\" x=\"0\" y=\"0em\"><defs /><text text-anchor=\"middle\" x=\"50%\" y=\"1em\">more</text></svg><svg width=\"100%\" x=\"0%\" y=\"3em\"><defs /><svg width=\"100%\" x=\"0\" y=\"0em\"><defs /><text text-anchor=\"middle\" x=\"50%\" y=\"1em\">JJR</text></svg></svg><line stroke=\"black\" x1=\"50%\" x2=\"50%\" y1=\"1.2em\" y2=\"3em\" /></svg><line stroke=\"black\" x1=\"50%\" x2=\"19.3916%\" y1=\"1.2em\" y2=\"3em\" /><svg width=\"0.95057%\" x=\"19.962%\" y=\"3em\"><defs /><svg width=\"100%\" x=\"0\" y=\"0em\"><defs /><text text-anchor=\"middle\" x=\"50%\" y=\"1em\">'s</text></svg><svg width=\"100%\" x=\"0%\" y=\"3em\"><defs /><svg width=\"100%\" x=\"0\" y=\"0em\"><defs /><text text-anchor=\"middle\" x=\"50%\" y=\"1em\">POS</text></svg></svg><line stroke=\"black\" x1=\"50%\" x2=\"50%\" y1=\"1.2em\" y2=\"3em\" /></svg><line stroke=\"black\" x1=\"50%\" x2=\"20.4373%\" y1=\"1.2em\" y2=\"3em\" /><svg width=\"2.09125%\" x=\"20.9125%\" y=\"3em\"><defs /><svg width=\"100%\" x=\"0\" y=\"0em\"><defs /><text text-anchor=\"middle\" x=\"50%\" y=\"1em\">remaining</text></svg><svg width=\"100%\" x=\"0%\" y=\"3em\"><defs /><svg width=\"100%\" x=\"0\" y=\"0em\"><defs /><text text-anchor=\"middle\" x=\"50%\" y=\"1em\">VBG</text></svg></svg><line stroke=\"black\" x1=\"50%\" x2=\"50%\" y1=\"1.2em\" y2=\"3em\" /></svg><line stroke=\"black\" x1=\"50%\" x2=\"21.9582%\" y1=\"1.2em\" y2=\"3em\" /><svg width=\"1.14068%\" x=\"23.0038%\" y=\"3em\"><defs /><svg width=\"100%\" x=\"0\" y=\"0em\"><defs /><text text-anchor=\"middle\" x=\"50%\" y=\"1em\">took</text></svg><svg width=\"100%\" x=\"0%\" y=\"3em\"><defs /><svg width=\"100%\" x=\"0\" y=\"0em\"><defs /><text text-anchor=\"middle\" x=\"50%\" y=\"1em\">VBD</text></svg></svg><line stroke=\"black\" x1=\"50%\" x2=\"50%\" y1=\"1.2em\" y2=\"3em\" /></svg><line stroke=\"black\" x1=\"50%\" x2=\"23.5741%\" y1=\"1.2em\" y2=\"3em\" /><svg width=\"1.3308%\" x=\"24.1445%\" y=\"3em\"><defs /><svg width=\"100%\" x=\"0\" y=\"0em\"><defs /><text text-anchor=\"middle\" x=\"50%\" y=\"1em\">aldus</text></svg><svg width=\"100%\" x=\"0%\" y=\"3em\"><defs /><svg width=\"100%\" x=\"0\" y=\"0em\"><defs /><text text-anchor=\"middle\" x=\"50%\" y=\"1em\">JJ</text></svg></svg><line stroke=\"black\" x1=\"50%\" x2=\"50%\" y1=\"1.2em\" y2=\"3em\" /></svg><line stroke=\"black\" x1=\"50%\" x2=\"24.8099%\" y1=\"1.2em\" y2=\"3em\" /><svg width=\"1.90114%\" x=\"25.4753%\" y=\"3em\"><defs /><svg width=\"100%\" x=\"0\" y=\"0em\"><defs /><text text-anchor=\"middle\" x=\"50%\" y=\"1em\">versions</text></svg><svg width=\"100%\" x=\"0%\" y=\"3em\"><defs /><svg width=\"100%\" x=\"0\" y=\"0em\"><defs /><text text-anchor=\"middle\" x=\"50%\" y=\"1em\">NNS</text></svg></svg><line stroke=\"black\" x1=\"50%\" x2=\"50%\" y1=\"1.2em\" y2=\"3em\" /></svg><line stroke=\"black\" x1=\"50%\" x2=\"26.4259%\" y1=\"1.2em\" y2=\"3em\" /><svg width=\"1.90114%\" x=\"27.3764%\" y=\"3em\"><defs /><svg width=\"100%\" x=\"0\" y=\"0em\"><defs /><text text-anchor=\"middle\" x=\"50%\" y=\"1em\">printing</text></svg><svg width=\"100%\" x=\"0%\" y=\"3em\"><defs /><svg width=\"100%\" x=\"0\" y=\"0em\"><defs /><text text-anchor=\"middle\" x=\"50%\" y=\"1em\">VBG</text></svg></svg><line stroke=\"black\" x1=\"50%\" x2=\"50%\" y1=\"1.2em\" y2=\"3em\" /></svg><line stroke=\"black\" x1=\"50%\" x2=\"28.327%\" y1=\"1.2em\" y2=\"3em\" /><svg width=\"1.71103%\" x=\"29.2776%\" y=\"3em\"><defs /><svg width=\"100%\" x=\"0\" y=\"0em\"><defs /><text text-anchor=\"middle\" x=\"50%\" y=\"1em\">printer</text></svg><svg width=\"100%\" x=\"0%\" y=\"3em\"><defs /><svg width=\"100%\" x=\"0\" y=\"0em\"><defs /><text text-anchor=\"middle\" x=\"50%\" y=\"1em\">NN</text></svg></svg><line stroke=\"black\" x1=\"50%\" x2=\"50%\" y1=\"1.2em\" y2=\"3em\" /></svg><line stroke=\"black\" x1=\"50%\" x2=\"30.1331%\" y1=\"1.2em\" y2=\"3em\" /><svg width=\"1.90114%\" x=\"30.9886%\" y=\"3em\"><defs /><svg width=\"100%\" x=\"0\" y=\"0em\"><defs /><text text-anchor=\"middle\" x=\"50%\" y=\"1em\">passages</text></svg><svg width=\"100%\" x=\"0%\" y=\"3em\"><defs /><svg width=\"100%\" x=\"0\" y=\"0em\"><defs /><text text-anchor=\"middle\" x=\"50%\" y=\"1em\">NNS</text></svg></svg><line stroke=\"black\" x1=\"50%\" x2=\"50%\" y1=\"1.2em\" y2=\"3em\" /></svg><line stroke=\"black\" x1=\"50%\" x2=\"31.9392%\" y1=\"1.2em\" y2=\"3em\" /><svg width=\"1.3308%\" x=\"32.8897%\" y=\"3em\"><defs /><svg width=\"100%\" x=\"0\" y=\"0em\"><defs /><text text-anchor=\"middle\" x=\"50%\" y=\"1em\">since</text></svg><svg width=\"100%\" x=\"0%\" y=\"3em\"><defs /><svg width=\"100%\" x=\"0\" y=\"0em\"><defs /><text text-anchor=\"middle\" x=\"50%\" y=\"1em\">IN</text></svg></svg><line stroke=\"black\" x1=\"50%\" x2=\"50%\" y1=\"1.2em\" y2=\"3em\" /></svg><line stroke=\"black\" x1=\"50%\" x2=\"33.5551%\" y1=\"1.2em\" y2=\"3em\" /><svg width=\"0.95057%\" x=\"34.2205%\" y=\"3em\"><defs /><svg width=\"100%\" x=\"0\" y=\"0em\"><defs /><text text-anchor=\"middle\" x=\"50%\" y=\"1em\">has</text></svg><svg width=\"100%\" x=\"0%\" y=\"3em\"><defs /><svg width=\"100%\" x=\"0\" y=\"0em\"><defs /><text text-anchor=\"middle\" x=\"50%\" y=\"1em\">VBZ</text></svg></svg><line stroke=\"black\" x1=\"50%\" x2=\"50%\" y1=\"1.2em\" y2=\"3em\" /></svg><line stroke=\"black\" x1=\"50%\" x2=\"34.6958%\" y1=\"1.2em\" y2=\"3em\" /><svg width=\"1.14068%\" x=\"35.1711%\" y=\"3em\"><defs /><svg width=\"100%\" x=\"0\" y=\"0em\"><defs /><text text-anchor=\"middle\" x=\"50%\" y=\"1em\">type</text></svg><svg width=\"100%\" x=\"0%\" y=\"3em\"><defs /><svg width=\"100%\" x=\"0\" y=\"0em\"><defs /><text text-anchor=\"middle\" x=\"50%\" y=\"1em\">VBN</text></svg></svg><line stroke=\"black\" x1=\"50%\" x2=\"50%\" y1=\"1.2em\" y2=\"3em\" /></svg><line stroke=\"black\" x1=\"50%\" x2=\"35.7414%\" y1=\"1.2em\" y2=\"3em\" /><svg width=\"1.14068%\" x=\"36.3118%\" y=\"3em\"><defs /><svg width=\"100%\" x=\"0\" y=\"0em\"><defs /><text text-anchor=\"middle\" x=\"50%\" y=\"1em\">only</text></svg><svg width=\"100%\" x=\"0%\" y=\"3em\"><defs /><svg width=\"100%\" x=\"0\" y=\"0em\"><defs /><text text-anchor=\"middle\" x=\"50%\" y=\"1em\">RB</text></svg></svg><line stroke=\"black\" x1=\"50%\" x2=\"50%\" y1=\"1.2em\" y2=\"3em\" /></svg><line stroke=\"black\" x1=\"50%\" x2=\"36.8821%\" y1=\"1.2em\" y2=\"3em\" /><svg width=\"0.95057%\" x=\"37.4525%\" y=\"3em\"><defs /><svg width=\"100%\" x=\"0\" y=\"0em\"><defs /><text text-anchor=\"middle\" x=\"50%\" y=\"1em\">not</text></svg><svg width=\"100%\" x=\"0%\" y=\"3em\"><defs /><svg width=\"100%\" x=\"0\" y=\"0em\"><defs /><text text-anchor=\"middle\" x=\"50%\" y=\"1em\">RB</text></svg></svg><line stroke=\"black\" x1=\"50%\" x2=\"50%\" y1=\"1.2em\" y2=\"3em\" /></svg><line stroke=\"black\" x1=\"50%\" x2=\"37.9278%\" y1=\"1.2em\" y2=\"3em\" /><svg width=\"1.71103%\" x=\"38.403%\" y=\"3em\"><defs /><svg width=\"100%\" x=\"0\" y=\"0em\"><defs /><text text-anchor=\"middle\" x=\"50%\" y=\"1em\">desktop</text></svg><svg width=\"100%\" x=\"0%\" y=\"3em\"><defs /><svg width=\"100%\" x=\"0\" y=\"0em\"><defs /><text text-anchor=\"middle\" x=\"50%\" y=\"1em\">VB</text></svg></svg><line stroke=\"black\" x1=\"50%\" x2=\"50%\" y1=\"1.2em\" y2=\"3em\" /></svg><line stroke=\"black\" x1=\"50%\" x2=\"39.2586%\" y1=\"1.2em\" y2=\"3em\" /><svg width=\"0.570342%\" x=\"40.1141%\" y=\"3em\"><defs /><svg width=\"100%\" x=\"0\" y=\"0em\"><defs /><text text-anchor=\"middle\" x=\"50%\" y=\"1em\">.</text></svg><svg width=\"100%\" x=\"0%\" y=\"3em\"><defs /><svg width=\"100%\" x=\"0\" y=\"0em\"><defs /><text text-anchor=\"middle\" x=\"50%\" y=\"1em\">.</text></svg></svg><line stroke=\"black\" x1=\"50%\" x2=\"50%\" y1=\"1.2em\" y2=\"3em\" /></svg><line stroke=\"black\" x1=\"50%\" x2=\"40.3992%\" y1=\"1.2em\" y2=\"3em\" /><svg width=\"1.14068%\" x=\"40.6844%\" y=\"3em\"><defs /><svg width=\"100%\" x=\"0\" y=\"0em\"><defs /><text text-anchor=\"middle\" x=\"50%\" y=\"1em\">what</text></svg><svg width=\"100%\" x=\"0%\" y=\"3em\"><defs /><svg width=\"100%\" x=\"0\" y=\"0em\"><defs /><text text-anchor=\"middle\" x=\"50%\" y=\"1em\">WP</text></svg></svg><line stroke=\"black\" x1=\"50%\" x2=\"50%\" y1=\"1.2em\" y2=\"3em\" /></svg><line stroke=\"black\" x1=\"50%\" x2=\"41.2548%\" y1=\"1.2em\" y2=\"3em\" /><svg width=\"1.52091%\" x=\"41.8251%\" y=\"3em\"><defs /><svg width=\"100%\" x=\"0\" y=\"0em\"><defs /><text text-anchor=\"middle\" x=\"50%\" y=\"1em\">galley</text></svg><svg width=\"100%\" x=\"0%\" y=\"3em\"><defs /><svg width=\"100%\" x=\"0\" y=\"0em\"><defs /><text text-anchor=\"middle\" x=\"50%\" y=\"1em\">VBD</text></svg></svg><line stroke=\"black\" x1=\"50%\" x2=\"50%\" y1=\"1.2em\" y2=\"3em\" /></svg><line stroke=\"black\" x1=\"50%\" x2=\"42.5856%\" y1=\"1.2em\" y2=\"3em\" /><svg width=\"1.14068%\" x=\"43.346%\" y=\"3em\"><defs /><svg width=\"100%\" x=\"0\" y=\"0em\"><defs /><text text-anchor=\"middle\" x=\"50%\" y=\"1em\">five</text></svg><svg width=\"100%\" x=\"0%\" y=\"3em\"><defs /><svg width=\"100%\" x=\"0\" y=\"0em\"><defs /><text text-anchor=\"middle\" x=\"50%\" y=\"1em\">CD</text></svg></svg><line stroke=\"black\" x1=\"50%\" x2=\"50%\" y1=\"1.2em\" y2=\"3em\" /></svg><line stroke=\"black\" x1=\"50%\" x2=\"43.9163%\" y1=\"1.2em\" y2=\"3em\" /><svg width=\"0.760456%\" x=\"44.4867%\" y=\"3em\"><defs /><svg width=\"100%\" x=\"0\" y=\"0em\"><defs /><text text-anchor=\"middle\" x=\"50%\" y=\"1em\">in</text></svg><svg width=\"100%\" x=\"0%\" y=\"3em\"><defs /><svg width=\"100%\" x=\"0\" y=\"0em\"><defs /><text text-anchor=\"middle\" x=\"50%\" y=\"1em\">IN</text></svg></svg><line stroke=\"black\" x1=\"50%\" x2=\"50%\" y1=\"1.2em\" y2=\"3em\" /></svg><line stroke=\"black\" x1=\"50%\" x2=\"44.8669%\" y1=\"1.2em\" y2=\"3em\" /><svg width=\"1.3308%\" x=\"45.2471%\" y=\"3em\"><defs /><svg width=\"100%\" x=\"0\" y=\"0em\"><defs /><text text-anchor=\"middle\" x=\"50%\" y=\"1em\">1500s</text></svg><svg width=\"100%\" x=\"0%\" y=\"3em\"><defs /><svg width=\"100%\" x=\"0\" y=\"0em\"><defs /><text text-anchor=\"middle\" x=\"50%\" y=\"1em\">CD</text></svg></svg><line stroke=\"black\" x1=\"50%\" x2=\"50%\" y1=\"1.2em\" y2=\"3em\" /></svg><line stroke=\"black\" x1=\"50%\" x2=\"45.9125%\" y1=\"1.2em\" y2=\"3em\" /><svg width=\"0.760456%\" x=\"46.5779%\" y=\"3em\"><defs /><svg width=\"100%\" x=\"0\" y=\"0em\"><defs /><text text-anchor=\"middle\" x=\"50%\" y=\"1em\">a</text></svg><svg width=\"100%\" x=\"0%\" y=\"3em\"><defs /><svg width=\"100%\" x=\"0\" y=\"0em\"><defs /><text text-anchor=\"middle\" x=\"50%\" y=\"1em\">DT</text></svg></svg><line stroke=\"black\" x1=\"50%\" x2=\"50%\" y1=\"1.2em\" y2=\"3em\" /></svg><line stroke=\"black\" x1=\"50%\" x2=\"46.9582%\" y1=\"1.2em\" y2=\"3em\" /><svg width=\"2.47148%\" x=\"47.3384%\" y=\"3em\"><defs /><svg width=\"100%\" x=\"0\" y=\"0em\"><defs /><text text-anchor=\"middle\" x=\"50%\" y=\"1em\">typesetting</text></svg><svg width=\"100%\" x=\"0%\" y=\"3em\"><defs /><svg width=\"100%\" x=\"0\" y=\"0em\"><defs /><text text-anchor=\"middle\" x=\"50%\" y=\"1em\">NN</text></svg></svg><line stroke=\"black\" x1=\"50%\" x2=\"50%\" y1=\"1.2em\" y2=\"3em\" /></svg><line stroke=\"black\" x1=\"50%\" x2=\"48.5741%\" y1=\"1.2em\" y2=\"3em\" /><svg width=\"0.95057%\" x=\"49.8099%\" y=\"3em\"><defs /><svg width=\"100%\" x=\"0\" y=\"0em\"><defs /><text text-anchor=\"middle\" x=\"50%\" y=\"1em\">is</text></svg><svg width=\"100%\" x=\"0%\" y=\"3em\"><defs /><svg width=\"100%\" x=\"0\" y=\"0em\"><defs /><text text-anchor=\"middle\" x=\"50%\" y=\"1em\">VBZ</text></svg></svg><line stroke=\"black\" x1=\"50%\" x2=\"50%\" y1=\"1.2em\" y2=\"3em\" /></svg><line stroke=\"black\" x1=\"50%\" x2=\"50.2852%\" y1=\"1.2em\" y2=\"3em\" /><svg width=\"0.95057%\" x=\"50.7605%\" y=\"3em\"><defs /><svg width=\"100%\" x=\"0\" y=\"0em\"><defs /><text text-anchor=\"middle\" x=\"50%\" y=\"1em\">the</text></svg><svg width=\"100%\" x=\"0%\" y=\"3em\"><defs /><svg width=\"100%\" x=\"0\" y=\"0em\"><defs /><text text-anchor=\"middle\" x=\"50%\" y=\"1em\">DT</text></svg></svg><line stroke=\"black\" x1=\"50%\" x2=\"50%\" y1=\"1.2em\" y2=\"3em\" /></svg><line stroke=\"black\" x1=\"50%\" x2=\"51.2357%\" y1=\"1.2em\" y2=\"3em\" /><svg width=\"1.3308%\" x=\"51.711%\" y=\"3em\"><defs /><svg width=\"100%\" x=\"0\" y=\"0em\"><defs /><text text-anchor=\"middle\" x=\"50%\" y=\"1em\">dummy</text></svg><svg width=\"100%\" x=\"0%\" y=\"3em\"><defs /><svg width=\"100%\" x=\"0\" y=\"0em\"><defs /><text text-anchor=\"middle\" x=\"50%\" y=\"1em\">NN</text></svg></svg><line stroke=\"black\" x1=\"50%\" x2=\"50%\" y1=\"1.2em\" y2=\"3em\" /></svg><line stroke=\"black\" x1=\"50%\" x2=\"52.3764%\" y1=\"1.2em\" y2=\"3em\" /><svg width=\"1.90114%\" x=\"53.0418%\" y=\"3em\"><defs /><svg width=\"100%\" x=\"0\" y=\"0em\"><defs /><text text-anchor=\"middle\" x=\"50%\" y=\"1em\">recently</text></svg><svg width=\"100%\" x=\"0%\" y=\"3em\"><defs /><svg width=\"100%\" x=\"0\" y=\"0em\"><defs /><text text-anchor=\"middle\" x=\"50%\" y=\"1em\">RB</text></svg></svg><line stroke=\"black\" x1=\"50%\" x2=\"50%\" y1=\"1.2em\" y2=\"3em\" /></svg><line stroke=\"black\" x1=\"50%\" x2=\"53.9924%\" y1=\"1.2em\" y2=\"3em\" /><svg width=\"0.760456%\" x=\"54.943%\" y=\"3em\"><defs /><svg width=\"100%\" x=\"0\" y=\"0em\"><defs /><text text-anchor=\"middle\" x=\"50%\" y=\"1em\">an</text></svg><svg width=\"100%\" x=\"0%\" y=\"3em\"><defs /><svg width=\"100%\" x=\"0\" y=\"0em\"><defs /><text text-anchor=\"middle\" x=\"50%\" y=\"1em\">DT</text></svg></svg><line stroke=\"black\" x1=\"50%\" x2=\"50%\" y1=\"1.2em\" y2=\"3em\" /></svg><line stroke=\"black\" x1=\"50%\" x2=\"55.3232%\" y1=\"1.2em\" y2=\"3em\" /><svg width=\"1.14068%\" x=\"55.7034%\" y=\"3em\"><defs /><svg width=\"100%\" x=\"0\" y=\"0em\"><defs /><text text-anchor=\"middle\" x=\"50%\" y=\"1em\">with</text></svg><svg width=\"100%\" x=\"0%\" y=\"3em\"><defs /><svg width=\"100%\" x=\"0\" y=\"0em\"><defs /><text text-anchor=\"middle\" x=\"50%\" y=\"1em\">IN</text></svg></svg><line stroke=\"black\" x1=\"50%\" x2=\"50%\" y1=\"1.2em\" y2=\"3em\" /></svg><line stroke=\"black\" x1=\"50%\" x2=\"56.2738%\" y1=\"1.2em\" y2=\"3em\" /><svg width=\"1.52091%\" x=\"56.8441%\" y=\"3em\"><defs /><svg width=\"100%\" x=\"0\" y=\"0em\"><defs /><text text-anchor=\"middle\" x=\"50%\" y=\"1em\">simply</text></svg><svg width=\"100%\" x=\"0%\" y=\"3em\"><defs /><svg width=\"100%\" x=\"0\" y=\"0em\"><defs /><text text-anchor=\"middle\" x=\"50%\" y=\"1em\">RB</text></svg></svg><line stroke=\"black\" x1=\"50%\" x2=\"50%\" y1=\"1.2em\" y2=\"3em\" /></svg><line stroke=\"black\" x1=\"50%\" x2=\"57.6046%\" y1=\"1.2em\" y2=\"3em\" /><svg width=\"1.90114%\" x=\"58.365%\" y=\"3em\"><defs /><svg width=\"100%\" x=\"0\" y=\"0em\"><defs /><text text-anchor=\"middle\" x=\"50%\" y=\"1em\">standard</text></svg><svg width=\"100%\" x=\"0%\" y=\"3em\"><defs /><svg width=\"100%\" x=\"0\" y=\"0em\"><defs /><text text-anchor=\"middle\" x=\"50%\" y=\"1em\">JJ</text></svg></svg><line stroke=\"black\" x1=\"50%\" x2=\"50%\" y1=\"1.2em\" y2=\"3em\" /></svg><line stroke=\"black\" x1=\"50%\" x2=\"59.3156%\" y1=\"1.2em\" y2=\"3em\" /><svg width=\"1.3308%\" x=\"60.2662%\" y=\"3em\"><defs /><svg width=\"100%\" x=\"0\" y=\"0em\"><defs /><text text-anchor=\"middle\" x=\"50%\" y=\"1em\">1960s</text></svg><svg width=\"100%\" x=\"0%\" y=\"3em\"><defs /><svg width=\"100%\" x=\"0\" y=\"0em\"><defs /><text text-anchor=\"middle\" x=\"50%\" y=\"1em\">CD</text></svg></svg><line stroke=\"black\" x1=\"50%\" x2=\"50%\" y1=\"1.2em\" y2=\"3em\" /></svg><line stroke=\"black\" x1=\"50%\" x2=\"60.9316%\" y1=\"1.2em\" y2=\"3em\" /><svg width=\"0.570342%\" x=\"61.597%\" y=\"3em\"><defs /><svg width=\"100%\" x=\"0\" y=\"0em\"><defs /><text text-anchor=\"middle\" x=\"50%\" y=\"1em\">?</text></svg><svg width=\"100%\" x=\"0%\" y=\"3em\"><defs /><svg width=\"100%\" x=\"0\" y=\"0em\"><defs /><text text-anchor=\"middle\" x=\"50%\" y=\"1em\">.</text></svg></svg><line stroke=\"black\" x1=\"50%\" x2=\"50%\" y1=\"1.2em\" y2=\"3em\" /></svg><line stroke=\"black\" x1=\"50%\" x2=\"61.8821%\" y1=\"1.2em\" y2=\"3em\" /><svg width=\"1.90114%\" x=\"62.1673%\" y=\"3em\"><defs /><svg width=\"100%\" x=\"0\" y=\"0em\"><defs /><text text-anchor=\"middle\" x=\"50%\" y=\"1em\">letraset</text></svg><svg width=\"100%\" x=\"0%\" y=\"3em\"><defs /><svg width=\"100%\" x=\"0\" y=\"0em\"><defs /><text text-anchor=\"middle\" x=\"50%\" y=\"1em\">NN</text></svg></svg><line stroke=\"black\" x1=\"50%\" x2=\"50%\" y1=\"1.2em\" y2=\"3em\" /></svg><line stroke=\"black\" x1=\"50%\" x2=\"63.1179%\" y1=\"1.2em\" y2=\"3em\" /><svg width=\"2.28137%\" x=\"64.0684%\" y=\"3em\"><defs /><svg width=\"100%\" x=\"0\" y=\"0em\"><defs /><text text-anchor=\"middle\" x=\"50%\" y=\"1em\">containing</text></svg><svg width=\"100%\" x=\"0%\" y=\"3em\"><defs /><svg width=\"100%\" x=\"0\" y=\"0em\"><defs /><text text-anchor=\"middle\" x=\"50%\" y=\"1em\">VBG</text></svg></svg><line stroke=\"black\" x1=\"50%\" x2=\"50%\" y1=\"1.2em\" y2=\"3em\" /></svg><line stroke=\"black\" x1=\"50%\" x2=\"65.2091%\" y1=\"1.2em\" y2=\"3em\" /><svg width=\"1.3308%\" x=\"66.3498%\" y=\"3em\"><defs /><svg width=\"100%\" x=\"0\" y=\"0em\"><defs /><text text-anchor=\"middle\" x=\"50%\" y=\"1em\">ipsum</text></svg><svg width=\"100%\" x=\"0%\" y=\"3em\"><defs /><svg width=\"100%\" x=\"0\" y=\"0em\"><defs /><text text-anchor=\"middle\" x=\"50%\" y=\"1em\">NN</text></svg></svg><line stroke=\"black\" x1=\"50%\" x2=\"50%\" y1=\"1.2em\" y2=\"3em\" /></svg><line stroke=\"black\" x1=\"50%\" x2=\"67.0152%\" y1=\"1.2em\" y2=\"3em\" /><svg width=\"0.95057%\" x=\"67.6806%\" y=\"3em\"><defs /><svg width=\"100%\" x=\"0\" y=\"0em\"><defs /><text text-anchor=\"middle\" x=\"50%\" y=\"1em\">and</text></svg><svg width=\"100%\" x=\"0%\" y=\"3em\"><defs /><svg width=\"100%\" x=\"0\" y=\"0em\"><defs /><text text-anchor=\"middle\" x=\"50%\" y=\"1em\">CC</text></svg></svg><line stroke=\"black\" x1=\"50%\" x2=\"50%\" y1=\"1.2em\" y2=\"3em\" /></svg><line stroke=\"black\" x1=\"50%\" x2=\"68.1559%\" y1=\"1.2em\" y2=\"3em\" /><svg width=\"1.90114%\" x=\"68.6312%\" y=\"3em\"><defs /><svg width=\"100%\" x=\"0\" y=\"0em\"><defs /><text text-anchor=\"middle\" x=\"50%\" y=\"1em\">specimen</text></svg><svg width=\"100%\" x=\"0%\" y=\"3em\"><defs /><svg width=\"100%\" x=\"0\" y=\"0em\"><defs /><text text-anchor=\"middle\" x=\"50%\" y=\"1em\">NNS</text></svg></svg><line stroke=\"black\" x1=\"50%\" x2=\"50%\" y1=\"1.2em\" y2=\"3em\" /></svg><line stroke=\"black\" x1=\"50%\" x2=\"69.5817%\" y1=\"1.2em\" y2=\"3em\" /><svg width=\"2.47148%\" x=\"70.5323%\" y=\"3em\"><defs /><svg width=\"100%\" x=\"0\" y=\"0em\"><defs /><text text-anchor=\"middle\" x=\"50%\" y=\"1em\">popularised</text></svg><svg width=\"100%\" x=\"0%\" y=\"3em\"><defs /><svg width=\"100%\" x=\"0\" y=\"0em\"><defs /><text text-anchor=\"middle\" x=\"50%\" y=\"1em\">VBD</text></svg></svg><line stroke=\"black\" x1=\"50%\" x2=\"50%\" y1=\"1.2em\" y2=\"3em\" /></svg><line stroke=\"black\" x1=\"50%\" x2=\"71.7681%\" y1=\"1.2em\" y2=\"3em\" /><svg width=\"2.09125%\" x=\"73.0038%\" y=\"3em\"><defs /><svg width=\"100%\" x=\"0\" y=\"0em\"><defs /><text text-anchor=\"middle\" x=\"50%\" y=\"1em\">unchanged</text></svg><svg width=\"100%\" x=\"0%\" y=\"3em\"><defs /><svg width=\"100%\" x=\"0\" y=\"0em\"><defs /><text text-anchor=\"middle\" x=\"50%\" y=\"1em\">JJ</text></svg></svg><line stroke=\"black\" x1=\"50%\" x2=\"50%\" y1=\"1.2em\" y2=\"3em\" /></svg><line stroke=\"black\" x1=\"50%\" x2=\"74.0494%\" y1=\"1.2em\" y2=\"3em\" /><svg width=\"1.14068%\" x=\"75.0951%\" y=\"3em\"><defs /><svg width=\"100%\" x=\"0\" y=\"0em\"><defs /><text text-anchor=\"middle\" x=\"50%\" y=\"1em\">been</text></svg><svg width=\"100%\" x=\"0%\" y=\"3em\"><defs /><svg width=\"100%\" x=\"0\" y=\"0em\"><defs /><text text-anchor=\"middle\" x=\"50%\" y=\"1em\">VBN</text></svg></svg><line stroke=\"black\" x1=\"50%\" x2=\"50%\" y1=\"1.2em\" y2=\"3em\" /></svg><line stroke=\"black\" x1=\"50%\" x2=\"75.6654%\" y1=\"1.2em\" y2=\"3em\" /><svg width=\"2.28137%\" x=\"76.2357%\" y=\"3em\"><defs /><svg width=\"100%\" x=\"0\" y=\"0em\"><defs /><text text-anchor=\"middle\" x=\"50%\" y=\"1em\">publishing</text></svg><svg width=\"100%\" x=\"0%\" y=\"3em\"><defs /><svg width=\"100%\" x=\"0\" y=\"0em\"><defs /><text text-anchor=\"middle\" x=\"50%\" y=\"1em\">VBG</text></svg></svg><line stroke=\"black\" x1=\"50%\" x2=\"50%\" y1=\"1.2em\" y2=\"3em\" /></svg><line stroke=\"black\" x1=\"50%\" x2=\"77.3764%\" y1=\"1.2em\" y2=\"3em\" /><svg width=\"1.14068%\" x=\"78.5171%\" y=\"3em\"><defs /><svg width=\"100%\" x=\"0\" y=\"0em\"><defs /><text text-anchor=\"middle\" x=\"50%\" y=\"1em\">leap</text></svg><svg width=\"100%\" x=\"0%\" y=\"3em\"><defs /><svg width=\"100%\" x=\"0\" y=\"0em\"><defs /><text text-anchor=\"middle\" x=\"50%\" y=\"1em\">RB</text></svg></svg><line stroke=\"black\" x1=\"50%\" x2=\"50%\" y1=\"1.2em\" y2=\"3em\" /></svg><line stroke=\"black\" x1=\"50%\" x2=\"79.0875%\" y1=\"1.2em\" y2=\"3em\" /><svg width=\"1.14068%\" x=\"79.6578%\" y=\"3em\"><defs /><svg width=\"100%\" x=\"0\" y=\"0em\"><defs /><text text-anchor=\"middle\" x=\"50%\" y=\"1em\">into</text></svg><svg width=\"100%\" x=\"0%\" y=\"3em\"><defs /><svg width=\"100%\" x=\"0\" y=\"0em\"><defs /><text text-anchor=\"middle\" x=\"50%\" y=\"1em\">IN</text></svg></svg><line stroke=\"black\" x1=\"50%\" x2=\"50%\" y1=\"1.2em\" y2=\"3em\" /></svg><line stroke=\"black\" x1=\"50%\" x2=\"80.2281%\" y1=\"1.2em\" y2=\"3em\" /><svg width=\"2.28137%\" x=\"80.7985%\" y=\"3em\"><defs /><svg width=\"100%\" x=\"0\" y=\"0em\"><defs /><text text-anchor=\"middle\" x=\"50%\" y=\"1em\">electronic</text></svg><svg width=\"100%\" x=\"0%\" y=\"3em\"><defs /><svg width=\"100%\" x=\"0\" y=\"0em\"><defs /><text text-anchor=\"middle\" x=\"50%\" y=\"1em\">JJ</text></svg></svg><line stroke=\"black\" x1=\"50%\" x2=\"50%\" y1=\"1.2em\" y2=\"3em\" /></svg><line stroke=\"black\" x1=\"50%\" x2=\"81.9392%\" y1=\"1.2em\" y2=\"3em\" /><svg width=\"1.71103%\" x=\"83.0798%\" y=\"3em\"><defs /><svg width=\"100%\" x=\"0\" y=\"0em\"><defs /><text text-anchor=\"middle\" x=\"50%\" y=\"1em\">unknown</text></svg><svg width=\"100%\" x=\"0%\" y=\"3em\"><defs /><svg width=\"100%\" x=\"0\" y=\"0em\"><defs /><text text-anchor=\"middle\" x=\"50%\" y=\"1em\">JJ</text></svg></svg><line stroke=\"black\" x1=\"50%\" x2=\"50%\" y1=\"1.2em\" y2=\"3em\" /></svg><line stroke=\"black\" x1=\"50%\" x2=\"83.9354%\" y1=\"1.2em\" y2=\"3em\" /><svg width=\"1.14068%\" x=\"84.7909%\" y=\"3em\"><defs /><svg width=\"100%\" x=\"0\" y=\"0em\"><defs /><text text-anchor=\"middle\" x=\"50%\" y=\"1em\">make</text></svg><svg width=\"100%\" x=\"0%\" y=\"3em\"><defs /><svg width=\"100%\" x=\"0\" y=\"0em\"><defs /><text text-anchor=\"middle\" x=\"50%\" y=\"1em\">NN</text></svg></svg><line stroke=\"black\" x1=\"50%\" x2=\"50%\" y1=\"1.2em\" y2=\"3em\" /></svg><line stroke=\"black\" x1=\"50%\" x2=\"85.3612%\" y1=\"1.2em\" y2=\"3em\" /><svg width=\"2.09125%\" x=\"85.9316%\" y=\"3em\"><defs /><svg width=\"100%\" x=\"0\" y=\"0em\"><defs /><text text-anchor=\"middle\" x=\"50%\" y=\"1em\">including</text></svg><svg width=\"100%\" x=\"0%\" y=\"3em\"><defs /><svg width=\"100%\" x=\"0\" y=\"0em\"><defs /><text text-anchor=\"middle\" x=\"50%\" y=\"1em\">VBG</text></svg></svg><line stroke=\"black\" x1=\"50%\" x2=\"50%\" y1=\"1.2em\" y2=\"3em\" /></svg><line stroke=\"black\" x1=\"50%\" x2=\"86.9772%\" y1=\"1.2em\" y2=\"3em\" /><svg width=\"0.760456%\" x=\"88.0228%\" y=\"3em\"><defs /><svg width=\"100%\" x=\"0\" y=\"0em\"><defs /><text text-anchor=\"middle\" x=\"50%\" y=\"1em\">to</text></svg><svg width=\"100%\" x=\"0%\" y=\"3em\"><defs /><svg width=\"100%\" x=\"0\" y=\"0em\"><defs /><text text-anchor=\"middle\" x=\"50%\" y=\"1em\">TO</text></svg></svg><line stroke=\"black\" x1=\"50%\" x2=\"50%\" y1=\"1.2em\" y2=\"3em\" /></svg><line stroke=\"black\" x1=\"50%\" x2=\"88.403%\" y1=\"1.2em\" y2=\"3em\" /><svg width=\"2.47148%\" x=\"88.7833%\" y=\"3em\"><defs /><svg width=\"100%\" x=\"0\" y=\"0em\"><defs /><text text-anchor=\"middle\" x=\"50%\" y=\"1em\">essentially</text></svg><svg width=\"100%\" x=\"0%\" y=\"3em\"><defs /><svg width=\"100%\" x=\"0\" y=\"0em\"><defs /><text text-anchor=\"middle\" x=\"50%\" y=\"1em\">RB</text></svg></svg><line stroke=\"black\" x1=\"50%\" x2=\"50%\" y1=\"1.2em\" y2=\"3em\" /></svg><line stroke=\"black\" x1=\"50%\" x2=\"90.019%\" y1=\"1.2em\" y2=\"3em\" /><svg width=\"0.95057%\" x=\"91.2548%\" y=\"3em\"><defs /><svg width=\"100%\" x=\"0\" y=\"0em\"><defs /><text text-anchor=\"middle\" x=\"50%\" y=\"1em\">but</text></svg><svg width=\"100%\" x=\"0%\" y=\"3em\"><defs /><svg width=\"100%\" x=\"0\" y=\"0em\"><defs /><text text-anchor=\"middle\" x=\"50%\" y=\"1em\">CC</text></svg></svg><line stroke=\"black\" x1=\"50%\" x2=\"50%\" y1=\"1.2em\" y2=\"3em\" /></svg><line stroke=\"black\" x1=\"50%\" x2=\"91.73%\" y1=\"1.2em\" y2=\"3em\" /><svg width=\"1.90114%\" x=\"92.2053%\" y=\"3em\"><defs /><svg width=\"100%\" x=\"0\" y=\"0em\"><defs /><text text-anchor=\"middle\" x=\"50%\" y=\"1em\">survived</text></svg><svg width=\"100%\" x=\"0%\" y=\"3em\"><defs /><svg width=\"100%\" x=\"0\" y=\"0em\"><defs /><text text-anchor=\"middle\" x=\"50%\" y=\"1em\">VBD</text></svg></svg><line stroke=\"black\" x1=\"50%\" x2=\"50%\" y1=\"1.2em\" y2=\"3em\" /></svg><line stroke=\"black\" x1=\"50%\" x2=\"93.1559%\" y1=\"1.2em\" y2=\"3em\" /><svg width=\"1.71103%\" x=\"94.1065%\" y=\"3em\"><defs /><svg width=\"100%\" x=\"0\" y=\"0em\"><defs /><text text-anchor=\"middle\" x=\"50%\" y=\"1em\">release</text></svg><svg width=\"100%\" x=\"0%\" y=\"3em\"><defs /><svg width=\"100%\" x=\"0\" y=\"0em\"><defs /><text text-anchor=\"middle\" x=\"50%\" y=\"1em\">NN</text></svg></svg><line stroke=\"black\" x1=\"50%\" x2=\"50%\" y1=\"1.2em\" y2=\"3em\" /></svg><line stroke=\"black\" x1=\"50%\" x2=\"94.962%\" y1=\"1.2em\" y2=\"3em\" /><svg width=\"1.14068%\" x=\"95.8175%\" y=\"3em\"><defs /><svg width=\"100%\" x=\"0\" y=\"0em\"><defs /><text text-anchor=\"middle\" x=\"50%\" y=\"1em\">ever</text></svg><svg width=\"100%\" x=\"0%\" y=\"3em\"><defs /><svg width=\"100%\" x=\"0\" y=\"0em\"><defs /><text text-anchor=\"middle\" x=\"50%\" y=\"1em\">RB</text></svg></svg><line stroke=\"black\" x1=\"50%\" x2=\"50%\" y1=\"1.2em\" y2=\"3em\" /></svg><line stroke=\"black\" x1=\"50%\" x2=\"96.3878%\" y1=\"1.2em\" y2=\"3em\" /><svg width=\"0.95057%\" x=\"96.9582%\" y=\"3em\"><defs /><svg width=\"100%\" x=\"0\" y=\"0em\"><defs /><text text-anchor=\"middle\" x=\"50%\" y=\"1em\">it</text></svg><svg width=\"100%\" x=\"0%\" y=\"3em\"><defs /><svg width=\"100%\" x=\"0\" y=\"0em\"><defs /><text text-anchor=\"middle\" x=\"50%\" y=\"1em\">PRP</text></svg></svg><line stroke=\"black\" x1=\"50%\" x2=\"50%\" y1=\"1.2em\" y2=\"3em\" /></svg><line stroke=\"black\" x1=\"50%\" x2=\"97.4335%\" y1=\"1.2em\" y2=\"3em\" /><svg width=\"2.09125%\" x=\"97.9087%\" y=\"3em\"><defs /><svg width=\"100%\" x=\"0\" y=\"0em\"><defs /><text text-anchor=\"middle\" x=\"50%\" y=\"1em\">centuries</text></svg><svg width=\"100%\" x=\"0%\" y=\"3em\"><defs /><svg width=\"100%\" x=\"0\" y=\"0em\"><defs /><text text-anchor=\"middle\" x=\"50%\" y=\"1em\">VBZ</text></svg></svg><line stroke=\"black\" x1=\"50%\" x2=\"50%\" y1=\"1.2em\" y2=\"3em\" /></svg><line stroke=\"black\" x1=\"50%\" x2=\"98.9544%\" y1=\"1.2em\" y2=\"3em\" /></svg>"
      ],
      "text/plain": [
       "Tree('S', [('pagemaker', 'NN'), ('software', 'NN'), ('also', 'RB'), ('like', 'IN'), ('was', 'VBD'), ('scrambled', 'VBN'), ('text', 'NN'), (',', ','), ('industry', 'NN'), ('book', 'NN'), ('of', 'IN'), ('when', 'WRB'), ('sheets', 'NNS'), ('lorem', 'VBP'), ('more', 'JJR'), (\"'s\", 'POS'), ('remaining', 'VBG'), ('took', 'VBD'), ('aldus', 'JJ'), ('versions', 'NNS'), ('printing', 'VBG'), ('printer', 'NN'), ('passages', 'NNS'), ('since', 'IN'), ('has', 'VBZ'), ('type', 'VBN'), ('only', 'RB'), ('not', 'RB'), ('desktop', 'VB'), ('.', '.'), ('what', 'WP'), ('galley', 'VBD'), ('five', 'CD'), ('in', 'IN'), ('1500s', 'CD'), ('a', 'DT'), ('typesetting', 'NN'), ('is', 'VBZ'), ('the', 'DT'), ('dummy', 'NN'), ('recently', 'RB'), ('an', 'DT'), ('with', 'IN'), ('simply', 'RB'), ('standard', 'JJ'), ('1960s', 'CD'), ('?', '.'), ('letraset', 'NN'), ('containing', 'VBG'), ('ipsum', 'NN'), ('and', 'CC'), ('specimen', 'NNS'), ('popularised', 'VBD'), ('unchanged', 'JJ'), ('been', 'VBN'), ('publishing', 'VBG'), ('leap', 'RB'), ('into', 'IN'), ('electronic', 'JJ'), ('unknown', 'JJ'), ('make', 'NN'), ('including', 'VBG'), ('to', 'TO'), ('essentially', 'RB'), ('but', 'CC'), ('survived', 'VBD'), ('release', 'NN'), ('ever', 'RB'), ('it', 'PRP'), ('centuries', 'VBZ')])"
      ]
     },
     "execution_count": 63,
     "metadata": {},
     "output_type": "execute_result"
    }
   ],
   "source": [
    "import svgling\n",
    "pp=nltk.pos_tag(tokens)\n",
    "nltk.ne_chunk(pp)"
   ]
  },
  {
   "cell_type": "code",
   "execution_count": 62,
   "id": "b3e9a746",
   "metadata": {},
   "outputs": [
    {
     "name": "stdout",
     "output_type": "stream",
     "text": [
      "Collecting svgling\n",
      "  Downloading svgling-0.3.1-py3-none-any.whl (21 kB)\n",
      "Collecting svgwrite\n",
      "  Downloading svgwrite-1.4.3-py3-none-any.whl (67 kB)\n",
      "Installing collected packages: svgwrite, svgling\n",
      "Successfully installed svgling-0.3.1 svgwrite-1.4.3\n",
      "Note: you may need to restart the kernel to use updated packages.\n"
     ]
    }
   ],
   "source": [
    "\n",
    "pip install svgling"
   ]
  },
  {
   "cell_type": "code",
   "execution_count": 71,
   "id": "6dfc66b0",
   "metadata": {},
   "outputs": [
    {
     "name": "stdout",
     "output_type": "stream",
     "text": [
      "Synset('peer.n.01') a person who is of equal standing with another in a group\n"
     ]
    },
    {
     "data": {
      "text/plain": [
       "(Synset('match.n.05'), 'the score needed to win a match')"
      ]
     },
     "execution_count": 71,
     "metadata": {},
     "output_type": "execute_result"
    }
   ],
   "source": [
    "from nltk.wsd import lesk\n",
    "sent=\"she is looking for a match\"\n",
    "sent1=\"yesterday's football match was exciting\"\n",
    "c1=lesk(word_tokenize(sent),\"match\")\n",
    "print(c1,c1.definition())\n",
    "c2=lesk(word_tokenize(sent1),\"match\")\n",
    "c2,c2.definition()"
   ]
  },
  {
   "cell_type": "code",
   "execution_count": null,
   "id": "71e2e2af",
   "metadata": {},
   "outputs": [],
   "source": []
  }
 ],
 "metadata": {
  "kernelspec": {
   "display_name": "Python 3 (ipykernel)",
   "language": "python",
   "name": "python3"
  },
  "language_info": {
   "codemirror_mode": {
    "name": "ipython",
    "version": 3
   },
   "file_extension": ".py",
   "mimetype": "text/x-python",
   "name": "python",
   "nbconvert_exporter": "python",
   "pygments_lexer": "ipython3",
   "version": "3.9.12"
  }
 },
 "nbformat": 4,
 "nbformat_minor": 5
}
